{
 "cells": [
  {
   "cell_type": "markdown",
   "metadata": {},
   "source": [
    "### Heroes Of Pymoli Data Analysis\n",
    "* Of the 1163 active players, the vast majority are male (84%). There also exists, a smaller, but notable proportion of female players (14%).\n",
    "\n",
    "* Our peak age demographic falls between 20-24 (44.8%) with secondary groups falling between 15-19 (18.60%) and 25-29 (13.4%).  \n",
    "-----"
   ]
  },
  {
   "cell_type": "markdown",
   "metadata": {},
   "source": [
    "### Note\n",
    "* Instructions have been included for each segment. You do not have to follow them exactly, but they are included to help you think through the steps."
   ]
  },
  {
   "cell_type": "code",
   "execution_count": 11,
   "metadata": {},
   "outputs": [],
   "source": [
    "# Dependencies and Setup\n",
    "import pandas as pd\n",
    "import numpy as np\n",
    "\n",
    "\n",
    "# File to Load (Remember to Change These)\n",
    "file_to_load = \"../Resources/purchase_data.csv\"\n",
    "\n",
    "# Read Purchasing File and store into Pandas data frame\n",
    "purchase_data = pd.read_csv(file_to_load)\n",
    "\n"
   ]
  },
  {
   "cell_type": "markdown",
   "metadata": {},
   "source": [
    "## Player Count"
   ]
  },
  {
   "cell_type": "markdown",
   "metadata": {},
   "source": [
    "* Display the total number of players\n"
   ]
  },
  {
   "cell_type": "code",
   "execution_count": 12,
   "metadata": {},
   "outputs": [
    {
     "data": {
      "text/plain": [
       "576"
      ]
     },
     "execution_count": 12,
     "metadata": {},
     "output_type": "execute_result"
    }
   ],
   "source": [
    "Total_players = purchase_data['SN'].nunique()\n",
    "Total_players\n"
   ]
  },
  {
   "cell_type": "markdown",
   "metadata": {},
   "source": [
    "## Purchasing Analysis (Total)"
   ]
  },
  {
   "cell_type": "markdown",
   "metadata": {},
   "source": [
    "* Run basic calculations to obtain number of unique items, average price, etc.\n",
    "\n",
    "\n",
    "* Create a summary data frame to hold the results\n",
    "\n",
    "\n",
    "* Optional: give the displayed data cleaner formatting\n",
    "\n",
    "\n",
    "* Display the summary data frame\n"
   ]
  },
  {
   "cell_type": "code",
   "execution_count": 13,
   "metadata": {
    "scrolled": true
   },
   "outputs": [
    {
     "data": {
      "text/html": [
       "<style  type=\"text/css\" >\n",
       "</style><table id=\"T_d96b00a6_a5d8_11e9_8361_485f99765b2a\" ><thead>    <tr>        <th class=\"blank level0\" ></th>        <th class=\"col_heading level0 col0\" >Number of Unique Items</th>        <th class=\"col_heading level0 col1\" >Average Price</th>        <th class=\"col_heading level0 col2\" >Number of Purchases</th>        <th class=\"col_heading level0 col3\" >Total Revenue</th>    </tr></thead><tbody>\n",
       "                <tr>\n",
       "                        <th id=\"T_d96b00a6_a5d8_11e9_8361_485f99765b2alevel0_row0\" class=\"row_heading level0 row0\" >0</th>\n",
       "                        <td id=\"T_d96b00a6_a5d8_11e9_8361_485f99765b2arow0_col0\" class=\"data row0 col0\" >183</td>\n",
       "                        <td id=\"T_d96b00a6_a5d8_11e9_8361_485f99765b2arow0_col1\" class=\"data row0 col1\" >$3.05</td>\n",
       "                        <td id=\"T_d96b00a6_a5d8_11e9_8361_485f99765b2arow0_col2\" class=\"data row0 col2\" >780</td>\n",
       "                        <td id=\"T_d96b00a6_a5d8_11e9_8361_485f99765b2arow0_col3\" class=\"data row0 col3\" >$2,379.77</td>\n",
       "            </tr>\n",
       "    </tbody></table>"
      ],
      "text/plain": [
       "<pandas.io.formats.style.Styler at 0x1ff111839e8>"
      ]
     },
     "execution_count": 13,
     "metadata": {},
     "output_type": "execute_result"
    }
   ],
   "source": [
    "Unique_items = purchase_data['Item ID'].nunique()\n",
    "average_price = purchase_data['Price'].mean()\n",
    "Number_of_purchase = purchase_data['Purchase ID'].count()\n",
    "Total_Revenue = purchase_data['Price'].sum()\n",
    "sum_df = pd.DataFrame({\"Number of Unique Items\":Unique_items, \"Average Price\":(average_price), \"Number of Purchases\":Number_of_purchase,\"Total Revenue\":Total_Revenue},index=[0])\n",
    "sum_df.style.format({'Average Price':\"${:,.2f}\",\n",
    "                         'Total Revenue': '${:,.2f}'})"
   ]
  },
  {
   "cell_type": "markdown",
   "metadata": {},
   "source": [
    "## Gender Demographics"
   ]
  },
  {
   "cell_type": "markdown",
   "metadata": {},
   "source": [
    "* Percentage and Count of Male Players\n",
    "\n",
    "\n",
    "* Percentage and Count of Female Players\n",
    "\n",
    "\n",
    "* Percentage and Count of Other / Non-Disclosed\n",
    "\n",
    "\n"
   ]
  },
  {
   "cell_type": "code",
   "execution_count": 14,
   "metadata": {},
   "outputs": [
    {
     "data": {
      "text/html": [
       "<div>\n",
       "<style scoped>\n",
       "    .dataframe tbody tr th:only-of-type {\n",
       "        vertical-align: middle;\n",
       "    }\n",
       "\n",
       "    .dataframe tbody tr th {\n",
       "        vertical-align: top;\n",
       "    }\n",
       "\n",
       "    .dataframe thead th {\n",
       "        text-align: right;\n",
       "    }\n",
       "</style>\n",
       "<table border=\"1\" class=\"dataframe\">\n",
       "  <thead>\n",
       "    <tr style=\"text-align: right;\">\n",
       "      <th></th>\n",
       "      <th>Total Count</th>\n",
       "      <th>Percentage of Players</th>\n",
       "    </tr>\n",
       "    <tr>\n",
       "      <th>Gender</th>\n",
       "      <th></th>\n",
       "      <th></th>\n",
       "    </tr>\n",
       "  </thead>\n",
       "  <tbody>\n",
       "    <tr>\n",
       "      <th>Female</th>\n",
       "      <td>81</td>\n",
       "      <td>14.06</td>\n",
       "    </tr>\n",
       "    <tr>\n",
       "      <th>Male</th>\n",
       "      <td>484</td>\n",
       "      <td>84.03</td>\n",
       "    </tr>\n",
       "    <tr>\n",
       "      <th>Other / Non-Disclosed</th>\n",
       "      <td>11</td>\n",
       "      <td>1.91</td>\n",
       "    </tr>\n",
       "  </tbody>\n",
       "</table>\n",
       "</div>"
      ],
      "text/plain": [
       "                       Total Count  Percentage of Players\n",
       "Gender                                                   \n",
       "Female                          81                  14.06\n",
       "Male                           484                  84.03\n",
       "Other / Non-Disclosed           11                   1.91"
      ]
     },
     "execution_count": 14,
     "metadata": {},
     "output_type": "execute_result"
    }
   ],
   "source": [
    "Gender_demo = purchase_data.groupby('Gender').SN.nunique()\n",
    "Percentage=(Gender_demo/Total_players)*100\n",
    "pd.DataFrame({'Total Count':Gender_demo,\n",
    "                        'Percentage of Players':round(Percentage,2)})\n",
    "\n"
   ]
  },
  {
   "cell_type": "markdown",
   "metadata": {},
   "source": [
    "\n",
    "## Purchasing Analysis (Gender)"
   ]
  },
  {
   "cell_type": "markdown",
   "metadata": {},
   "source": [
    "* Run basic calculations to obtain purchase count, avg. purchase price, avg. purchase total per person etc. by gender\n",
    "\n",
    "\n",
    "\n",
    "\n",
    "* Create a summary data frame to hold the results\n",
    "\n",
    "\n",
    "* Optional: give the displayed data cleaner formatting\n",
    "\n",
    "\n",
    "* Display the summary data frame"
   ]
  },
  {
   "cell_type": "code",
   "execution_count": 15,
   "metadata": {},
   "outputs": [
    {
     "data": {
      "text/html": [
       "<style  type=\"text/css\" >\n",
       "</style><table id=\"T_da02dcc6_a5d8_11e9_89f2_485f99765b2a\" ><thead>    <tr>        <th class=\"blank level0\" ></th>        <th class=\"col_heading level0 col0\" >Purchase Count</th>        <th class=\"col_heading level0 col1\" >Average Purchase Price</th>        <th class=\"col_heading level0 col2\" >Total Purchase Value</th>        <th class=\"col_heading level0 col3\" >Avg Total Purchase per Person</th>    </tr>    <tr>        <th class=\"index_name level0\" >Gender</th>        <th class=\"blank\" ></th>        <th class=\"blank\" ></th>        <th class=\"blank\" ></th>        <th class=\"blank\" ></th>    </tr></thead><tbody>\n",
       "                <tr>\n",
       "                        <th id=\"T_da02dcc6_a5d8_11e9_89f2_485f99765b2alevel0_row0\" class=\"row_heading level0 row0\" >Female</th>\n",
       "                        <td id=\"T_da02dcc6_a5d8_11e9_89f2_485f99765b2arow0_col0\" class=\"data row0 col0\" >113</td>\n",
       "                        <td id=\"T_da02dcc6_a5d8_11e9_89f2_485f99765b2arow0_col1\" class=\"data row0 col1\" >$3.20</td>\n",
       "                        <td id=\"T_da02dcc6_a5d8_11e9_89f2_485f99765b2arow0_col2\" class=\"data row0 col2\" >$361.94</td>\n",
       "                        <td id=\"T_da02dcc6_a5d8_11e9_89f2_485f99765b2arow0_col3\" class=\"data row0 col3\" >$4.47</td>\n",
       "            </tr>\n",
       "            <tr>\n",
       "                        <th id=\"T_da02dcc6_a5d8_11e9_89f2_485f99765b2alevel0_row1\" class=\"row_heading level0 row1\" >Male</th>\n",
       "                        <td id=\"T_da02dcc6_a5d8_11e9_89f2_485f99765b2arow1_col0\" class=\"data row1 col0\" >652</td>\n",
       "                        <td id=\"T_da02dcc6_a5d8_11e9_89f2_485f99765b2arow1_col1\" class=\"data row1 col1\" >$3.02</td>\n",
       "                        <td id=\"T_da02dcc6_a5d8_11e9_89f2_485f99765b2arow1_col2\" class=\"data row1 col2\" >$1,967.64</td>\n",
       "                        <td id=\"T_da02dcc6_a5d8_11e9_89f2_485f99765b2arow1_col3\" class=\"data row1 col3\" >$4.07</td>\n",
       "            </tr>\n",
       "            <tr>\n",
       "                        <th id=\"T_da02dcc6_a5d8_11e9_89f2_485f99765b2alevel0_row2\" class=\"row_heading level0 row2\" >Other / Non-Disclosed</th>\n",
       "                        <td id=\"T_da02dcc6_a5d8_11e9_89f2_485f99765b2arow2_col0\" class=\"data row2 col0\" >15</td>\n",
       "                        <td id=\"T_da02dcc6_a5d8_11e9_89f2_485f99765b2arow2_col1\" class=\"data row2 col1\" >$3.35</td>\n",
       "                        <td id=\"T_da02dcc6_a5d8_11e9_89f2_485f99765b2arow2_col2\" class=\"data row2 col2\" >$50.19</td>\n",
       "                        <td id=\"T_da02dcc6_a5d8_11e9_89f2_485f99765b2arow2_col3\" class=\"data row2 col3\" >$4.56</td>\n",
       "            </tr>\n",
       "    </tbody></table>"
      ],
      "text/plain": [
       "<pandas.io.formats.style.Styler at 0x1ff11f2f6a0>"
      ]
     },
     "execution_count": 15,
     "metadata": {},
     "output_type": "execute_result"
    }
   ],
   "source": [
    "purchase_count = purchase_data.groupby('Gender')[\"Purchase ID\"].count()\n",
    "\n",
    "purchase_average_gender = purchase_data.groupby('Gender')[\"Price\"].mean()\n",
    "\n",
    "purchase_sum_gender = purchase_data.groupby('Gender')[\"Price\"].sum()\n",
    "\n",
    "purchase_avg_person = purchase_sum_gender/Gender_demo\n",
    "\n",
    "sum_df1=pd.DataFrame({'Purchase Count':purchase_count,'Average Purchase Price':round(purchase_average_gender,2),\n",
    "                'Total Purchase Value':purchase_sum_gender,'Avg Total Purchase per Person':round(purchase_avg_person,2)})\n",
    "\n",
    "sum_df1.style.format({'Average Purchase Price':'${:,.2f}',\n",
    "                         'Total Purchase Value': '${:,.2f}',\n",
    "                         'Avg Total Purchase per Person':'${:,.2f}'})                               \n"
   ]
  },
  {
   "cell_type": "markdown",
   "metadata": {},
   "source": [
    "## Age Demographics"
   ]
  },
  {
   "cell_type": "markdown",
   "metadata": {},
   "source": [
    "* Establish bins for ages\n",
    "\n",
    "\n",
    "* Categorize the existing players using the age bins. Hint: use pd.cut()\n",
    "\n",
    "\n",
    "* Calculate the numbers and percentages by age group\n",
    "\n",
    "\n",
    "* Create a summary data frame to hold the results\n",
    "\n",
    "\n",
    "* Optional: round the percentage column to two decimal points\n",
    "\n",
    "\n",
    "* Display Age Demographics Table\n"
   ]
  },
  {
   "cell_type": "code",
   "execution_count": 16,
   "metadata": {},
   "outputs": [
    {
     "data": {
      "text/html": [
       "<div>\n",
       "<style scoped>\n",
       "    .dataframe tbody tr th:only-of-type {\n",
       "        vertical-align: middle;\n",
       "    }\n",
       "\n",
       "    .dataframe tbody tr th {\n",
       "        vertical-align: top;\n",
       "    }\n",
       "\n",
       "    .dataframe thead th {\n",
       "        text-align: right;\n",
       "    }\n",
       "</style>\n",
       "<table border=\"1\" class=\"dataframe\">\n",
       "  <thead>\n",
       "    <tr style=\"text-align: right;\">\n",
       "      <th></th>\n",
       "      <th>Total Count</th>\n",
       "      <th>Pecentage of Players</th>\n",
       "    </tr>\n",
       "    <tr>\n",
       "      <th>Age</th>\n",
       "      <th></th>\n",
       "      <th></th>\n",
       "    </tr>\n",
       "  </thead>\n",
       "  <tbody>\n",
       "    <tr>\n",
       "      <th>&lt;10</th>\n",
       "      <td>17</td>\n",
       "      <td>2.95</td>\n",
       "    </tr>\n",
       "    <tr>\n",
       "      <th>10-14</th>\n",
       "      <td>22</td>\n",
       "      <td>3.82</td>\n",
       "    </tr>\n",
       "    <tr>\n",
       "      <th>15-19</th>\n",
       "      <td>107</td>\n",
       "      <td>18.58</td>\n",
       "    </tr>\n",
       "    <tr>\n",
       "      <th>20-24</th>\n",
       "      <td>258</td>\n",
       "      <td>44.79</td>\n",
       "    </tr>\n",
       "    <tr>\n",
       "      <th>25-29</th>\n",
       "      <td>77</td>\n",
       "      <td>13.37</td>\n",
       "    </tr>\n",
       "    <tr>\n",
       "      <th>30-34</th>\n",
       "      <td>52</td>\n",
       "      <td>9.03</td>\n",
       "    </tr>\n",
       "    <tr>\n",
       "      <th>35-39</th>\n",
       "      <td>31</td>\n",
       "      <td>5.38</td>\n",
       "    </tr>\n",
       "    <tr>\n",
       "      <th>40+</th>\n",
       "      <td>12</td>\n",
       "      <td>2.08</td>\n",
       "    </tr>\n",
       "  </tbody>\n",
       "</table>\n",
       "</div>"
      ],
      "text/plain": [
       "       Total Count  Pecentage of Players\n",
       "Age                                     \n",
       "<10             17                  2.95\n",
       "10-14           22                  3.82\n",
       "15-19          107                 18.58\n",
       "20-24          258                 44.79\n",
       "25-29           77                 13.37\n",
       "30-34           52                  9.03\n",
       "35-39           31                  5.38\n",
       "40+             12                  2.08"
      ]
     },
     "execution_count": 16,
     "metadata": {},
     "output_type": "execute_result"
    }
   ],
   "source": [
    "purchase_data['Age'].max()\n",
    "bins = [0,9,14,19,24,29,34,39,45]\n",
    "\n",
    "group_names = [\"<10\", \"10-14\", \"15-19\", \"20-24\", \"25-29\",\"30-34\",\"35-39\",\"40+\"]\n",
    "\n",
    "pd_total=purchase_data.groupby(pd.cut(purchase_data[\"Age\"], bins, labels=group_names))\n",
    "total_C1=pd_total['SN'].nunique()\n",
    "percent_player=total_C1/Total_players*100\n",
    "\n",
    "pd.DataFrame({'Total Count':total_C1,'Pecentage of Players':round(percent_player,2)})\n",
    "\n",
    "                              \n",
    "\n",
    "\n",
    "\n"
   ]
  },
  {
   "cell_type": "markdown",
   "metadata": {},
   "source": [
    "## Purchasing Analysis (Age)"
   ]
  },
  {
   "cell_type": "markdown",
   "metadata": {},
   "source": [
    "* Bin the purchase_data data frame by age\n",
    "\n",
    "\n",
    "* Run basic calculations to obtain purchase count, avg. purchase price, avg. purchase total per person etc. in the table below\n",
    "\n",
    "\n",
    "* Create a summary data frame to hold the results\n",
    "\n",
    "\n",
    "* Optional: give the displayed data cleaner formatting\n",
    "\n",
    "\n",
    "* Display the summary data frame"
   ]
  },
  {
   "cell_type": "code",
   "execution_count": 17,
   "metadata": {},
   "outputs": [
    {
     "data": {
      "text/html": [
       "<style  type=\"text/css\" >\n",
       "</style><table id=\"T_daa57a1e_a5d8_11e9_bab1_485f99765b2a\" ><thead>    <tr>        <th class=\"blank level0\" ></th>        <th class=\"col_heading level0 col0\" >Purchase Count</th>        <th class=\"col_heading level0 col1\" >Average Purchase Price</th>        <th class=\"col_heading level0 col2\" >Total Purchase Value</th>        <th class=\"col_heading level0 col3\" >Avg Total Purchase per Person</th>    </tr>    <tr>        <th class=\"index_name level0\" >Age</th>        <th class=\"blank\" ></th>        <th class=\"blank\" ></th>        <th class=\"blank\" ></th>        <th class=\"blank\" ></th>    </tr></thead><tbody>\n",
       "                <tr>\n",
       "                        <th id=\"T_daa57a1e_a5d8_11e9_bab1_485f99765b2alevel0_row0\" class=\"row_heading level0 row0\" ><10</th>\n",
       "                        <td id=\"T_daa57a1e_a5d8_11e9_bab1_485f99765b2arow0_col0\" class=\"data row0 col0\" >23</td>\n",
       "                        <td id=\"T_daa57a1e_a5d8_11e9_bab1_485f99765b2arow0_col1\" class=\"data row0 col1\" >$3.35</td>\n",
       "                        <td id=\"T_daa57a1e_a5d8_11e9_bab1_485f99765b2arow0_col2\" class=\"data row0 col2\" >$77.13</td>\n",
       "                        <td id=\"T_daa57a1e_a5d8_11e9_bab1_485f99765b2arow0_col3\" class=\"data row0 col3\" >$4.54</td>\n",
       "            </tr>\n",
       "            <tr>\n",
       "                        <th id=\"T_daa57a1e_a5d8_11e9_bab1_485f99765b2alevel0_row1\" class=\"row_heading level0 row1\" >10-14</th>\n",
       "                        <td id=\"T_daa57a1e_a5d8_11e9_bab1_485f99765b2arow1_col0\" class=\"data row1 col0\" >28</td>\n",
       "                        <td id=\"T_daa57a1e_a5d8_11e9_bab1_485f99765b2arow1_col1\" class=\"data row1 col1\" >$2.96</td>\n",
       "                        <td id=\"T_daa57a1e_a5d8_11e9_bab1_485f99765b2arow1_col2\" class=\"data row1 col2\" >$82.78</td>\n",
       "                        <td id=\"T_daa57a1e_a5d8_11e9_bab1_485f99765b2arow1_col3\" class=\"data row1 col3\" >$3.76</td>\n",
       "            </tr>\n",
       "            <tr>\n",
       "                        <th id=\"T_daa57a1e_a5d8_11e9_bab1_485f99765b2alevel0_row2\" class=\"row_heading level0 row2\" >15-19</th>\n",
       "                        <td id=\"T_daa57a1e_a5d8_11e9_bab1_485f99765b2arow2_col0\" class=\"data row2 col0\" >136</td>\n",
       "                        <td id=\"T_daa57a1e_a5d8_11e9_bab1_485f99765b2arow2_col1\" class=\"data row2 col1\" >$3.04</td>\n",
       "                        <td id=\"T_daa57a1e_a5d8_11e9_bab1_485f99765b2arow2_col2\" class=\"data row2 col2\" >$412.89</td>\n",
       "                        <td id=\"T_daa57a1e_a5d8_11e9_bab1_485f99765b2arow2_col3\" class=\"data row2 col3\" >$3.86</td>\n",
       "            </tr>\n",
       "            <tr>\n",
       "                        <th id=\"T_daa57a1e_a5d8_11e9_bab1_485f99765b2alevel0_row3\" class=\"row_heading level0 row3\" >20-24</th>\n",
       "                        <td id=\"T_daa57a1e_a5d8_11e9_bab1_485f99765b2arow3_col0\" class=\"data row3 col0\" >365</td>\n",
       "                        <td id=\"T_daa57a1e_a5d8_11e9_bab1_485f99765b2arow3_col1\" class=\"data row3 col1\" >$3.05</td>\n",
       "                        <td id=\"T_daa57a1e_a5d8_11e9_bab1_485f99765b2arow3_col2\" class=\"data row3 col2\" >$1,114.06</td>\n",
       "                        <td id=\"T_daa57a1e_a5d8_11e9_bab1_485f99765b2arow3_col3\" class=\"data row3 col3\" >$4.32</td>\n",
       "            </tr>\n",
       "            <tr>\n",
       "                        <th id=\"T_daa57a1e_a5d8_11e9_bab1_485f99765b2alevel0_row4\" class=\"row_heading level0 row4\" >25-29</th>\n",
       "                        <td id=\"T_daa57a1e_a5d8_11e9_bab1_485f99765b2arow4_col0\" class=\"data row4 col0\" >101</td>\n",
       "                        <td id=\"T_daa57a1e_a5d8_11e9_bab1_485f99765b2arow4_col1\" class=\"data row4 col1\" >$2.90</td>\n",
       "                        <td id=\"T_daa57a1e_a5d8_11e9_bab1_485f99765b2arow4_col2\" class=\"data row4 col2\" >$293.00</td>\n",
       "                        <td id=\"T_daa57a1e_a5d8_11e9_bab1_485f99765b2arow4_col3\" class=\"data row4 col3\" >$3.81</td>\n",
       "            </tr>\n",
       "            <tr>\n",
       "                        <th id=\"T_daa57a1e_a5d8_11e9_bab1_485f99765b2alevel0_row5\" class=\"row_heading level0 row5\" >30-34</th>\n",
       "                        <td id=\"T_daa57a1e_a5d8_11e9_bab1_485f99765b2arow5_col0\" class=\"data row5 col0\" >73</td>\n",
       "                        <td id=\"T_daa57a1e_a5d8_11e9_bab1_485f99765b2arow5_col1\" class=\"data row5 col1\" >$2.93</td>\n",
       "                        <td id=\"T_daa57a1e_a5d8_11e9_bab1_485f99765b2arow5_col2\" class=\"data row5 col2\" >$214.00</td>\n",
       "                        <td id=\"T_daa57a1e_a5d8_11e9_bab1_485f99765b2arow5_col3\" class=\"data row5 col3\" >$4.12</td>\n",
       "            </tr>\n",
       "            <tr>\n",
       "                        <th id=\"T_daa57a1e_a5d8_11e9_bab1_485f99765b2alevel0_row6\" class=\"row_heading level0 row6\" >35-39</th>\n",
       "                        <td id=\"T_daa57a1e_a5d8_11e9_bab1_485f99765b2arow6_col0\" class=\"data row6 col0\" >41</td>\n",
       "                        <td id=\"T_daa57a1e_a5d8_11e9_bab1_485f99765b2arow6_col1\" class=\"data row6 col1\" >$3.60</td>\n",
       "                        <td id=\"T_daa57a1e_a5d8_11e9_bab1_485f99765b2arow6_col2\" class=\"data row6 col2\" >$147.67</td>\n",
       "                        <td id=\"T_daa57a1e_a5d8_11e9_bab1_485f99765b2arow6_col3\" class=\"data row6 col3\" >$4.76</td>\n",
       "            </tr>\n",
       "            <tr>\n",
       "                        <th id=\"T_daa57a1e_a5d8_11e9_bab1_485f99765b2alevel0_row7\" class=\"row_heading level0 row7\" >40+</th>\n",
       "                        <td id=\"T_daa57a1e_a5d8_11e9_bab1_485f99765b2arow7_col0\" class=\"data row7 col0\" >13</td>\n",
       "                        <td id=\"T_daa57a1e_a5d8_11e9_bab1_485f99765b2arow7_col1\" class=\"data row7 col1\" >$2.94</td>\n",
       "                        <td id=\"T_daa57a1e_a5d8_11e9_bab1_485f99765b2arow7_col2\" class=\"data row7 col2\" >$38.24</td>\n",
       "                        <td id=\"T_daa57a1e_a5d8_11e9_bab1_485f99765b2arow7_col3\" class=\"data row7 col3\" >$3.19</td>\n",
       "            </tr>\n",
       "    </tbody></table>"
      ],
      "text/plain": [
       "<pandas.io.formats.style.Styler at 0x1ff1114ff28>"
      ]
     },
     "execution_count": 17,
     "metadata": {},
     "output_type": "execute_result"
    }
   ],
   "source": [
    "\n",
    "total_C2=pd_total['Age'].count()\n",
    "\n",
    "average_age=pd_total['Price'].mean()\n",
    "\n",
    "total_age=pd_total['Price'].sum()\n",
    "\n",
    "avg_person=total_age/total_C1\n",
    "sum_df2=pd.DataFrame({'Purchase Count':total_C2,'Average Purchase Price':average_age,\n",
    "               'Total Purchase Value':total_age,'Avg Total Purchase per Person':avg_person})\n",
    "sum_df2.style.format({'Average Purchase Price':'${:,.2f}',\n",
    "                         'Total Purchase Value': '${:,.2f}',\n",
    "                         'Avg Total Purchase per Person':'${:,.2f}'})  \n"
   ]
  },
  {
   "cell_type": "markdown",
   "metadata": {},
   "source": [
    "## Top Spenders"
   ]
  },
  {
   "cell_type": "markdown",
   "metadata": {},
   "source": [
    "* Run basic calculations to obtain the results in the table below\n",
    "\n",
    "\n",
    "* Create a summary data frame to hold the results\n",
    "\n",
    "\n",
    "* Sort the total purchase value column in descending order\n",
    "\n",
    "\n",
    "* Optional: give the displayed data cleaner formatting\n",
    "\n",
    "\n",
    "* Display a preview of the summary data frame\n",
    "\n"
   ]
  },
  {
   "cell_type": "code",
   "execution_count": 18,
   "metadata": {},
   "outputs": [
    {
     "data": {
      "text/html": [
       "<style  type=\"text/css\" >\n",
       "</style><table id=\"T_db69a0f6_a5d8_11e9_ac00_485f99765b2a\" ><thead>    <tr>        <th class=\"blank level0\" ></th>        <th class=\"col_heading level0 col0\" >Purchase Count</th>        <th class=\"col_heading level0 col1\" >Average Purchase Price</th>        <th class=\"col_heading level0 col2\" >Total Purchase Value</th>    </tr>    <tr>        <th class=\"index_name level0\" >SN</th>        <th class=\"blank\" ></th>        <th class=\"blank\" ></th>        <th class=\"blank\" ></th>    </tr></thead><tbody>\n",
       "                <tr>\n",
       "                        <th id=\"T_db69a0f6_a5d8_11e9_ac00_485f99765b2alevel0_row0\" class=\"row_heading level0 row0\" >Lisosia93</th>\n",
       "                        <td id=\"T_db69a0f6_a5d8_11e9_ac00_485f99765b2arow0_col0\" class=\"data row0 col0\" >5</td>\n",
       "                        <td id=\"T_db69a0f6_a5d8_11e9_ac00_485f99765b2arow0_col1\" class=\"data row0 col1\" >$3.79</td>\n",
       "                        <td id=\"T_db69a0f6_a5d8_11e9_ac00_485f99765b2arow0_col2\" class=\"data row0 col2\" >$18.96</td>\n",
       "            </tr>\n",
       "            <tr>\n",
       "                        <th id=\"T_db69a0f6_a5d8_11e9_ac00_485f99765b2alevel0_row1\" class=\"row_heading level0 row1\" >Idastidru52</th>\n",
       "                        <td id=\"T_db69a0f6_a5d8_11e9_ac00_485f99765b2arow1_col0\" class=\"data row1 col0\" >4</td>\n",
       "                        <td id=\"T_db69a0f6_a5d8_11e9_ac00_485f99765b2arow1_col1\" class=\"data row1 col1\" >$3.86</td>\n",
       "                        <td id=\"T_db69a0f6_a5d8_11e9_ac00_485f99765b2arow1_col2\" class=\"data row1 col2\" >$15.45</td>\n",
       "            </tr>\n",
       "            <tr>\n",
       "                        <th id=\"T_db69a0f6_a5d8_11e9_ac00_485f99765b2alevel0_row2\" class=\"row_heading level0 row2\" >Chamjask73</th>\n",
       "                        <td id=\"T_db69a0f6_a5d8_11e9_ac00_485f99765b2arow2_col0\" class=\"data row2 col0\" >3</td>\n",
       "                        <td id=\"T_db69a0f6_a5d8_11e9_ac00_485f99765b2arow2_col1\" class=\"data row2 col1\" >$4.61</td>\n",
       "                        <td id=\"T_db69a0f6_a5d8_11e9_ac00_485f99765b2arow2_col2\" class=\"data row2 col2\" >$13.83</td>\n",
       "            </tr>\n",
       "            <tr>\n",
       "                        <th id=\"T_db69a0f6_a5d8_11e9_ac00_485f99765b2alevel0_row3\" class=\"row_heading level0 row3\" >Iral74</th>\n",
       "                        <td id=\"T_db69a0f6_a5d8_11e9_ac00_485f99765b2arow3_col0\" class=\"data row3 col0\" >4</td>\n",
       "                        <td id=\"T_db69a0f6_a5d8_11e9_ac00_485f99765b2arow3_col1\" class=\"data row3 col1\" >$3.40</td>\n",
       "                        <td id=\"T_db69a0f6_a5d8_11e9_ac00_485f99765b2arow3_col2\" class=\"data row3 col2\" >$13.62</td>\n",
       "            </tr>\n",
       "            <tr>\n",
       "                        <th id=\"T_db69a0f6_a5d8_11e9_ac00_485f99765b2alevel0_row4\" class=\"row_heading level0 row4\" >Iskadarya95</th>\n",
       "                        <td id=\"T_db69a0f6_a5d8_11e9_ac00_485f99765b2arow4_col0\" class=\"data row4 col0\" >3</td>\n",
       "                        <td id=\"T_db69a0f6_a5d8_11e9_ac00_485f99765b2arow4_col1\" class=\"data row4 col1\" >$4.37</td>\n",
       "                        <td id=\"T_db69a0f6_a5d8_11e9_ac00_485f99765b2arow4_col2\" class=\"data row4 col2\" >$13.10</td>\n",
       "            </tr>\n",
       "    </tbody></table>"
      ],
      "text/plain": [
       "<pandas.io.formats.style.Styler at 0x1ff11f372e8>"
      ]
     },
     "execution_count": 18,
     "metadata": {},
     "output_type": "execute_result"
    }
   ],
   "source": [
    "Top_Spender = purchase_data.groupby('SN')['Purchase ID'].count()\n",
    "spender_average_price = purchase_data.groupby('SN')[\"Price\"].mean()\n",
    "spender_sum_gender = purchase_data.groupby('SN')[\"Price\"].sum()\n",
    "\n",
    "df= pd.DataFrame({'Purchase Count':Top_Spender,'Average Purchase Price':round(spender_average_price,2),'Total Purchase Value':round(spender_sum_gender,2)})\n",
    "\n",
    "sum_df3=df.sort_values('Total Purchase Value',ascending = False).head()\n",
    "sum_df3.style.format({'Average Purchase Price':'${:,.2f}',\n",
    "                         'Total Purchase Value': '${:,.2f}'})  \n",
    "\n"
   ]
  },
  {
   "cell_type": "markdown",
   "metadata": {},
   "source": [
    "## Most Popular Items"
   ]
  },
  {
   "cell_type": "markdown",
   "metadata": {},
   "source": [
    "* Retrieve the Item ID, Item Name, and Item Price columns\n",
    "\n",
    "\n",
    "* Group by Item ID and Item Name. Perform calculations to obtain purchase count, item price, and total purchase value\n",
    "\n",
    "\n",
    "* Create a summary data frame to hold the results\n",
    "\n",
    "\n",
    "* Sort the purchase count column in descending order\n",
    "\n",
    "\n",
    "* Optional: give the displayed data cleaner formatting\n",
    "\n",
    "\n",
    "* Display a preview of the summary data frame\n",
    "\n"
   ]
  },
  {
   "cell_type": "code",
   "execution_count": 19,
   "metadata": {},
   "outputs": [
    {
     "data": {
      "text/html": [
       "<style  type=\"text/css\" >\n",
       "</style><table id=\"T_dbd16a12_a5d8_11e9_82a8_485f99765b2a\" ><thead>    <tr>        <th class=\"blank\" ></th>        <th class=\"blank level0\" ></th>        <th class=\"col_heading level0 col0\" >Purchase Count</th>        <th class=\"col_heading level0 col1\" >Item Price</th>        <th class=\"col_heading level0 col2\" >Total Purchase Value</th>    </tr>    <tr>        <th class=\"index_name level0\" >Item ID</th>        <th class=\"index_name level1\" >Item Name</th>        <th class=\"blank\" ></th>        <th class=\"blank\" ></th>        <th class=\"blank\" ></th>    </tr></thead><tbody>\n",
       "                <tr>\n",
       "                        <th id=\"T_dbd16a12_a5d8_11e9_82a8_485f99765b2alevel0_row0\" class=\"row_heading level0 row0\" >178</th>\n",
       "                        <th id=\"T_dbd16a12_a5d8_11e9_82a8_485f99765b2alevel1_row0\" class=\"row_heading level1 row0\" >Oathbreaker, Last Hope of the Breaking Storm</th>\n",
       "                        <td id=\"T_dbd16a12_a5d8_11e9_82a8_485f99765b2arow0_col0\" class=\"data row0 col0\" >12</td>\n",
       "                        <td id=\"T_dbd16a12_a5d8_11e9_82a8_485f99765b2arow0_col1\" class=\"data row0 col1\" >4.23</td>\n",
       "                        <td id=\"T_dbd16a12_a5d8_11e9_82a8_485f99765b2arow0_col2\" class=\"data row0 col2\" >$50.76</td>\n",
       "            </tr>\n",
       "            <tr>\n",
       "                        <th id=\"T_dbd16a12_a5d8_11e9_82a8_485f99765b2alevel0_row1\" class=\"row_heading level0 row1\" >145</th>\n",
       "                        <th id=\"T_dbd16a12_a5d8_11e9_82a8_485f99765b2alevel1_row1\" class=\"row_heading level1 row1\" >Fiery Glass Crusader</th>\n",
       "                        <td id=\"T_dbd16a12_a5d8_11e9_82a8_485f99765b2arow1_col0\" class=\"data row1 col0\" >9</td>\n",
       "                        <td id=\"T_dbd16a12_a5d8_11e9_82a8_485f99765b2arow1_col1\" class=\"data row1 col1\" >4.58</td>\n",
       "                        <td id=\"T_dbd16a12_a5d8_11e9_82a8_485f99765b2arow1_col2\" class=\"data row1 col2\" >$41.22</td>\n",
       "            </tr>\n",
       "            <tr>\n",
       "                        <th id=\"T_dbd16a12_a5d8_11e9_82a8_485f99765b2alevel0_row2\" class=\"row_heading level0 row2\" >108</th>\n",
       "                        <th id=\"T_dbd16a12_a5d8_11e9_82a8_485f99765b2alevel1_row2\" class=\"row_heading level1 row2\" >Extraction, Quickblade Of Trembling Hands</th>\n",
       "                        <td id=\"T_dbd16a12_a5d8_11e9_82a8_485f99765b2arow2_col0\" class=\"data row2 col0\" >9</td>\n",
       "                        <td id=\"T_dbd16a12_a5d8_11e9_82a8_485f99765b2arow2_col1\" class=\"data row2 col1\" >3.53</td>\n",
       "                        <td id=\"T_dbd16a12_a5d8_11e9_82a8_485f99765b2arow2_col2\" class=\"data row2 col2\" >$31.77</td>\n",
       "            </tr>\n",
       "            <tr>\n",
       "                        <th id=\"T_dbd16a12_a5d8_11e9_82a8_485f99765b2alevel0_row3\" class=\"row_heading level0 row3\" >82</th>\n",
       "                        <th id=\"T_dbd16a12_a5d8_11e9_82a8_485f99765b2alevel1_row3\" class=\"row_heading level1 row3\" >Nirvana</th>\n",
       "                        <td id=\"T_dbd16a12_a5d8_11e9_82a8_485f99765b2arow3_col0\" class=\"data row3 col0\" >9</td>\n",
       "                        <td id=\"T_dbd16a12_a5d8_11e9_82a8_485f99765b2arow3_col1\" class=\"data row3 col1\" >4.9</td>\n",
       "                        <td id=\"T_dbd16a12_a5d8_11e9_82a8_485f99765b2arow3_col2\" class=\"data row3 col2\" >$44.10</td>\n",
       "            </tr>\n",
       "            <tr>\n",
       "                        <th id=\"T_dbd16a12_a5d8_11e9_82a8_485f99765b2alevel0_row4\" class=\"row_heading level0 row4\" >19</th>\n",
       "                        <th id=\"T_dbd16a12_a5d8_11e9_82a8_485f99765b2alevel1_row4\" class=\"row_heading level1 row4\" >Pursuit, Cudgel of Necromancy</th>\n",
       "                        <td id=\"T_dbd16a12_a5d8_11e9_82a8_485f99765b2arow4_col0\" class=\"data row4 col0\" >8</td>\n",
       "                        <td id=\"T_dbd16a12_a5d8_11e9_82a8_485f99765b2arow4_col1\" class=\"data row4 col1\" >1.02</td>\n",
       "                        <td id=\"T_dbd16a12_a5d8_11e9_82a8_485f99765b2arow4_col2\" class=\"data row4 col2\" >$8.16</td>\n",
       "            </tr>\n",
       "    </tbody></table>"
      ],
      "text/plain": [
       "<pandas.io.formats.style.Styler at 0x1ff11f19c50>"
      ]
     },
     "execution_count": 19,
     "metadata": {},
     "output_type": "execute_result"
    }
   ],
   "source": [
    "item_cols= purchase_data[[ 'Item ID','Item Name','Price']]\n",
    "\n",
    "item_cols_list =item_cols.groupby(['Item ID','Item Name'])\n",
    "\n",
    "item_cols_count =item_cols_list['Price'].count()\n",
    "\n",
    "item_cols_sum =item_cols_list['Price'].sum()\n",
    "\n",
    "item_cols_price = item_cols_sum/item_cols_count\n",
    "\n",
    "\n",
    "item_cols_df=pd.DataFrame({'Purchase Count':item_cols_count,'Item Price':round(item_cols_price,2),'Total Purchase Value':round(item_cols_sum,2)})\n",
    "\n",
    "\n",
    "sum_df4=item_cols_df.sort_values(['Purchase Count'],ascending = False).head()\n",
    "sum_df4.style.format({'Total Purchase Value': '${:,.2f}'})  \n",
    "\n",
    "\n",
    "\n",
    "\n"
   ]
  },
  {
   "cell_type": "markdown",
   "metadata": {},
   "source": [
    "## Most Profitable Items"
   ]
  },
  {
   "cell_type": "markdown",
   "metadata": {},
   "source": [
    "* Sort the above table by total purchase value in descending order\n",
    "\n",
    "\n",
    "* Optional: give the displayed data cleaner formatting\n",
    "\n",
    "\n",
    "* Display a preview of the data frame\n",
    "\n"
   ]
  },
  {
   "cell_type": "code",
   "execution_count": 20,
   "metadata": {
    "scrolled": true
   },
   "outputs": [
    {
     "data": {
      "text/html": [
       "<style  type=\"text/css\" >\n",
       "</style><table id=\"T_dc2eab8a_a5d8_11e9_9f12_485f99765b2a\" ><thead>    <tr>        <th class=\"blank\" ></th>        <th class=\"blank level0\" ></th>        <th class=\"col_heading level0 col0\" >Purchase Count</th>        <th class=\"col_heading level0 col1\" >Item Price</th>        <th class=\"col_heading level0 col2\" >Total Purchase Value</th>    </tr>    <tr>        <th class=\"index_name level0\" >Item ID</th>        <th class=\"index_name level1\" >Item Name</th>        <th class=\"blank\" ></th>        <th class=\"blank\" ></th>        <th class=\"blank\" ></th>    </tr></thead><tbody>\n",
       "                <tr>\n",
       "                        <th id=\"T_dc2eab8a_a5d8_11e9_9f12_485f99765b2alevel0_row0\" class=\"row_heading level0 row0\" >178</th>\n",
       "                        <th id=\"T_dc2eab8a_a5d8_11e9_9f12_485f99765b2alevel1_row0\" class=\"row_heading level1 row0\" >Oathbreaker, Last Hope of the Breaking Storm</th>\n",
       "                        <td id=\"T_dc2eab8a_a5d8_11e9_9f12_485f99765b2arow0_col0\" class=\"data row0 col0\" >12</td>\n",
       "                        <td id=\"T_dc2eab8a_a5d8_11e9_9f12_485f99765b2arow0_col1\" class=\"data row0 col1\" >4.23</td>\n",
       "                        <td id=\"T_dc2eab8a_a5d8_11e9_9f12_485f99765b2arow0_col2\" class=\"data row0 col2\" >$50.76</td>\n",
       "            </tr>\n",
       "            <tr>\n",
       "                        <th id=\"T_dc2eab8a_a5d8_11e9_9f12_485f99765b2alevel0_row1\" class=\"row_heading level0 row1\" >82</th>\n",
       "                        <th id=\"T_dc2eab8a_a5d8_11e9_9f12_485f99765b2alevel1_row1\" class=\"row_heading level1 row1\" >Nirvana</th>\n",
       "                        <td id=\"T_dc2eab8a_a5d8_11e9_9f12_485f99765b2arow1_col0\" class=\"data row1 col0\" >9</td>\n",
       "                        <td id=\"T_dc2eab8a_a5d8_11e9_9f12_485f99765b2arow1_col1\" class=\"data row1 col1\" >4.9</td>\n",
       "                        <td id=\"T_dc2eab8a_a5d8_11e9_9f12_485f99765b2arow1_col2\" class=\"data row1 col2\" >$44.10</td>\n",
       "            </tr>\n",
       "            <tr>\n",
       "                        <th id=\"T_dc2eab8a_a5d8_11e9_9f12_485f99765b2alevel0_row2\" class=\"row_heading level0 row2\" >145</th>\n",
       "                        <th id=\"T_dc2eab8a_a5d8_11e9_9f12_485f99765b2alevel1_row2\" class=\"row_heading level1 row2\" >Fiery Glass Crusader</th>\n",
       "                        <td id=\"T_dc2eab8a_a5d8_11e9_9f12_485f99765b2arow2_col0\" class=\"data row2 col0\" >9</td>\n",
       "                        <td id=\"T_dc2eab8a_a5d8_11e9_9f12_485f99765b2arow2_col1\" class=\"data row2 col1\" >4.58</td>\n",
       "                        <td id=\"T_dc2eab8a_a5d8_11e9_9f12_485f99765b2arow2_col2\" class=\"data row2 col2\" >$41.22</td>\n",
       "            </tr>\n",
       "            <tr>\n",
       "                        <th id=\"T_dc2eab8a_a5d8_11e9_9f12_485f99765b2alevel0_row3\" class=\"row_heading level0 row3\" >92</th>\n",
       "                        <th id=\"T_dc2eab8a_a5d8_11e9_9f12_485f99765b2alevel1_row3\" class=\"row_heading level1 row3\" >Final Critic</th>\n",
       "                        <td id=\"T_dc2eab8a_a5d8_11e9_9f12_485f99765b2arow3_col0\" class=\"data row3 col0\" >8</td>\n",
       "                        <td id=\"T_dc2eab8a_a5d8_11e9_9f12_485f99765b2arow3_col1\" class=\"data row3 col1\" >4.88</td>\n",
       "                        <td id=\"T_dc2eab8a_a5d8_11e9_9f12_485f99765b2arow3_col2\" class=\"data row3 col2\" >$39.04</td>\n",
       "            </tr>\n",
       "            <tr>\n",
       "                        <th id=\"T_dc2eab8a_a5d8_11e9_9f12_485f99765b2alevel0_row4\" class=\"row_heading level0 row4\" >103</th>\n",
       "                        <th id=\"T_dc2eab8a_a5d8_11e9_9f12_485f99765b2alevel1_row4\" class=\"row_heading level1 row4\" >Singed Scalpel</th>\n",
       "                        <td id=\"T_dc2eab8a_a5d8_11e9_9f12_485f99765b2arow4_col0\" class=\"data row4 col0\" >8</td>\n",
       "                        <td id=\"T_dc2eab8a_a5d8_11e9_9f12_485f99765b2arow4_col1\" class=\"data row4 col1\" >4.35</td>\n",
       "                        <td id=\"T_dc2eab8a_a5d8_11e9_9f12_485f99765b2arow4_col2\" class=\"data row4 col2\" >$34.80</td>\n",
       "            </tr>\n",
       "    </tbody></table>"
      ],
      "text/plain": [
       "<pandas.io.formats.style.Styler at 0x1ff11f8ee10>"
      ]
     },
     "execution_count": 20,
     "metadata": {},
     "output_type": "execute_result"
    }
   ],
   "source": [
    "sum_df5=item_cols_df.sort_values(['Total Purchase Value'],ascending = False).head()\n",
    "sum_df5.style.format({'Total Purchase Value': '${:,.2f}'})  "
   ]
  },
  {
   "cell_type": "code",
   "execution_count": null,
   "metadata": {},
   "outputs": [],
   "source": []
  },
  {
   "cell_type": "code",
   "execution_count": null,
   "metadata": {},
   "outputs": [],
   "source": []
  },
  {
   "cell_type": "code",
   "execution_count": null,
   "metadata": {},
   "outputs": [],
   "source": []
  },
  {
   "cell_type": "code",
   "execution_count": null,
   "metadata": {},
   "outputs": [],
   "source": []
  },
  {
   "cell_type": "code",
   "execution_count": null,
   "metadata": {},
   "outputs": [],
   "source": []
  },
  {
   "cell_type": "code",
   "execution_count": null,
   "metadata": {},
   "outputs": [],
   "source": []
  }
 ],
 "metadata": {
  "anaconda-cloud": {},
  "kernel_info": {
   "name": "python3"
  },
  "kernelspec": {
   "display_name": "Python 3",
   "language": "python",
   "name": "python3"
  },
  "language_info": {
   "codemirror_mode": {
    "name": "ipython",
    "version": 3
   },
   "file_extension": ".py",
   "mimetype": "text/x-python",
   "name": "python",
   "nbconvert_exporter": "python",
   "pygments_lexer": "ipython3",
   "version": "3.7.3"
  },
  "nteract": {
   "version": "0.2.0"
  }
 },
 "nbformat": 4,
 "nbformat_minor": 2
}
